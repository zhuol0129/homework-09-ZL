{
 "cells": [
  {
   "cell_type": "markdown",
   "metadata": {},
   "source": [
    "# Back Bay National Wildlife Refuge\n",
    "\n",
    "\n",
    "> Back Bay National Wildlife Refuge is located in the southeastern corner of the City of Virginia Beach. The refuge was established in 1938 to protect and provide habitat for migrating and wintering waterfowl. Diverse habitats, including beachfront, freshwater marsh, dunes, shrub-scrub and upland forest are home to hundreds of species of birds, reptiles, amphibians, mammals and fish.\n",
    "\n",
    "![BNWR](https://www.fws.gov/sites/default/files/styles/banner_image_xl/public/banner_images/2020-09/waterfowl%20%28tundras%29.jpg?h=0c8d0f81&itok=NcZlpD27)\n",
    "\n",
    "\n",
    "To get introduced to the park and its history, please view the following interactive story map.\n",
    "\n",
    "[BBNWR History and Introduction](https://storymaps.arcgis.com/stories/960d9db38cca4f3d8d38111119b9874f)\n",
    "\n",
    "Additionally, here is some drone footage of the park for a better look at the geography and ecology of the area.\n",
    "\n",
    "[BBNWR Drone Footage](https://www.youtube.com/watch?v=NlW330aBTCc)"
   ]
  },
  {
   "cell_type": "code",
   "execution_count": 1,
   "metadata": {},
   "outputs": [],
   "source": [
    "import os\n",
    "import pandas as pd\n",
    "import numpy as np\n",
    "import seaborn as sb\n",
    "import statsmodels.api as sm\n",
    "import scipy.stats as sps\n",
    "import statsmodels.stats.proportion as prop"
   ]
  },
  {
   "cell_type": "code",
   "execution_count": 2,
   "metadata": {},
   "outputs": [
    {
     "data": {
      "text/plain": [
       "Index(['Site_Id', 'Unit_Id', 'Read_Date', 'Salinity (ppt)',\n",
       "       'Dissolved Oxygen (mg/L)', 'pH (standard units)', 'Secchi Depth (m)',\n",
       "       'Water Depth (m)', 'Water Temp (?C)', 'Air Temp-Celsius',\n",
       "       'Air Temp (?F)', 'Time (24:00)', 'Field_Tech', 'DateVerified',\n",
       "       'WhoVerified', 'AirTemp (C)', 'Year'],\n",
       "      dtype='object')"
      ]
     },
     "execution_count": 2,
     "metadata": {},
     "output_type": "execute_result"
    }
   ],
   "source": [
    "bbnwr = pd.read_csv(\"./BKB_WaterQualityData_2020084.csv\")\n",
    "bbnwr.columns"
   ]
  },
  {
   "cell_type": "code",
   "execution_count": 3,
   "metadata": {},
   "outputs": [],
   "source": [
    "bbnwr[\"Site_Id\"] = bbnwr[\"Site_Id\"].replace({'d': 'D'})"
   ]
  },
  {
   "cell_type": "markdown",
   "metadata": {},
   "source": [
    "## Question 1\n",
    "\n",
    "### Q1a\n",
    "\n",
    "The water in BBNWR is a mix of fresh water and sea water. Sea water has an average salinity of 35 ppt (parts per thousand). Because fresh water flows into the Bay, however, the level of salinity can be much lower, depending how much fresh water enters the system. Such systems are described through a tiered system of descriptions based on the amount of salt in the water.\n",
    "\n",
    "A oligohaline mixture is one in which the saline content is between 0.5 - 5.0. More details on [classifying estuaries can be found in this EPA report](https://www.epa.gov/sites/default/files/2015-09/documents/2009_03_13_estuaries_monitor_chap14.pdf).\n",
    "\n",
    "Let's test the theory that the measurements from the Bay come from a oligohaline mixture or a mixture with more saline content, so that salinity is more than 0.5.\n",
    "\n",
    "For this hypothesis test will we use a $\\alpha$-level (maximum Type I error probability) of $0.0015$.\n",
    "\n",
    "Clearly state:\n",
    "\n",
    "- The null hypothesis\n",
    "- The alternative hypothesis\n",
    "- A suitable test statistic\n",
    "- The standard error of this test statistic\n",
    "- A rejection region that will have probability of including the test statistic 0.0015 when the null hypothesis is true.\n",
    "\n",
    "*Double click to add your answer* \n",
    "- The null hypothesis: The average salinity of the Bay is 0.5 ppt (H0: μ = 0.5).\n",
    "- The alternative hypothesis: The average salinity of the Bay is greater than 0.5 ppt (H1: μ > 0.5).\n",
    "- A suitable test statistic: The test statistic is the z-score calculated as (sample_mean - population_mean) / standard_error.\n",
    "- The standard error of this test statistic: 0.025999988501600853.\n",
    "- A rejection region that will have probability of including the test statistic 0.0015 when the null hypothesis is true: The rejection region is z > 2.9677379253417944.\n",
    "\n",
    "\n",
    "\n",
    "### Q1b\n",
    "\n",
    "Now that we have described our hypothesis test, compute all quantities needed to compute the test statistic, standard error, and rejection region. You may find it helpful to create a table that only includes observations from the Bay with non-missing values for \"Salinity (ppt)\"."
   ]
  },
  {
   "cell_type": "code",
   "execution_count": 5,
   "metadata": {},
   "outputs": [
    {
     "data": {
      "text/plain": [
       "(0.7170682730923694,\n",
       " 2241,\n",
       " 1.2308186950436066,\n",
       " 0.025999988501600853,\n",
       " 8.348783426538986,\n",
       " 2.9677379253417944)"
      ]
     },
     "execution_count": 5,
     "metadata": {},
     "output_type": "execute_result"
    }
   ],
   "source": [
    "# compute quantities\n",
    "# Filter the data to include only non-missing values for \"Salinity (ppt)\"\n",
    "salinity_data = bbnwr[bbnwr[\"Salinity (ppt)\"].notna()][\"Salinity (ppt)\"]\n",
    "\n",
    "# Compute the sample mean and sample size\n",
    "sample_mean = salinity_data.mean()\n",
    "sample_size = len(salinity_data)\n",
    "\n",
    "# Population mean under the null hypothesis\n",
    "population_mean = 0.5\n",
    "\n",
    "# Compute the sample standard deviation\n",
    "sample_std = salinity_data.std(ddof=1)\n",
    "\n",
    "# Compute the standard error of the mean\n",
    "standard_error = sample_std / np.sqrt(sample_size)\n",
    "\n",
    "# Compute the test statistic\n",
    "test_statistic = (sample_mean - population_mean) / standard_error\n",
    "\n",
    "# Compute the critical value for the rejection region\n",
    "alpha = 0.0015\n",
    "critical_value = sps.norm.ppf(1 - alpha)\n",
    "\n",
    "sample_mean, sample_size, sample_std, standard_error, test_statistic, critical_value"
   ]
  },
  {
   "cell_type": "markdown",
   "metadata": {},
   "source": [
    "### Q1c\n",
    "\n",
    "Perform the hypothesis test. Clearly state whether you reject or fail to reject the null hypothesis. Interpret this result with result to the original question of whether the average salinity of the Bay is consistent with a oligohaline (or more extreme) mixture.\n"
   ]
  },
  {
   "cell_type": "code",
   "execution_count": 6,
   "metadata": {},
   "outputs": [
    {
     "data": {
      "text/plain": [
       "'reject'"
      ]
     },
     "execution_count": 6,
     "metadata": {},
     "output_type": "execute_result"
    }
   ],
   "source": [
    "# perform test\n",
    "\n",
    "if test_statistic > critical_value:\n",
    "    result = \"reject\"\n",
    "else:\n",
    "    result = \"fail to reject\"\n",
    "\n",
    "result"
   ]
  },
  {
   "cell_type": "markdown",
   "metadata": {},
   "source": [
    "### Q1d\n",
    "\n",
    "We could also approach this question by creating a confidence interval for the average salinity in the population of all measurements in the Bay.\n",
    "\n",
    "Using the quantities above, create a 99.7% confidence interval of the average salinity of the Bay. What does this interval tell us about the following table of salinity mixture tiers:\n",
    "\n",
    "| Level | Salinity |\n",
    "| ----- | -------- |\n",
    "| Fresh Water | < 0.5 ppt |\n",
    "| Oligohaline | 0.5 -- 5.0 ppt|\n",
    "| Mesohaline | 5.0-18.0 ppt|\n",
    "| Polyhaline | 18.0­ -- 30 ppt |\n",
    "| Ocean | > 30 ppt |\n"
   ]
  },
  {
   "cell_type": "code",
   "execution_count": 9,
   "metadata": {},
   "outputs": [
    {
     "data": {
      "text/plain": [
       "(0.634526537882316, 0.7996100083024228)"
      ]
     },
     "execution_count": 9,
     "metadata": {},
     "output_type": "execute_result"
    }
   ],
   "source": [
    "# confidence interval\n",
    "# Calculate the z-score for the 99.7% confidence interval\n",
    "z_score = sps.norm.ppf(1 - alpha / 2)\n",
    "\n",
    "# Calculate the margin of error\n",
    "margin_of_error = z_score * standard_error\n",
    "\n",
    "# Calculate the confidence interval\n",
    "confidence_interval = (sample_mean - margin_of_error, sample_mean + margin_of_error)\n",
    "\n",
    "confidence_interval"
   ]
  },
  {
   "cell_type": "markdown",
   "metadata": {},
   "source": [
    "Which of these levels can be ruled out for the Bay?\n",
    "\n",
    "*Double click to add your answer*\n",
    "\n",
    "The confidence interval for the average salinity of the Bay is (0.6345, 0.7996). Based on this interval, we can rule out the following levels for the Bay:\n",
    "\n",
    "- Fresh Water (< 0.5 ppt)\n",
    "- Mesohaline (5.0-18.0 ppt)\n",
    "- Polyhaline (18.0-30 ppt)\n",
    "- Ocean (> 30 ppt)\n",
    "\n",
    "The salinity of the Bay falls within the Oligohaline range (0.5 -- 5.0 ppt).\n",
    "\n",
    "## Question 2\n",
    "\n",
    "### Q2a\n",
    "\n",
    "A [Secchi disk](https://en.wikipedia.org/wiki/Secchi_disk) is a device used to measure the clarity of water by submerging the disk and measuring the depth at which it is no longer visible.\n",
    "\n",
    "![Secchi Disk](https://upload.wikimedia.org/wikipedia/commons/thumb/0/0b/Secchi_disk_pattern.svg/240px-Secchi_disk_pattern.svg.png)\n",
    "\n",
    "A common definition of \"clear water\" is being able to view a Secchi disk at 4m. In the case of the BBNWR, most of the depths are less than 4m:\n"
   ]
  },
  {
   "cell_type": "code",
   "execution_count": 10,
   "metadata": {},
   "outputs": [
    {
     "data": {
      "text/plain": [
       "<Axes: xlabel='Water Depth (m)', ylabel='Count'>"
      ]
     },
     "execution_count": 10,
     "metadata": {},
     "output_type": "execute_result"
    },
    {
     "data": {
      "image/png": "[encoded data removed]",
      "text/plain": [
       "<Figure size 640x480 with 1 Axes>"
      ]
     },
     "metadata": {},
     "output_type": "display_data"
    }
   ],
   "source": [
    "sb.histplot(data = bbnwr, x = \"Water Depth (m)\")"
   ]
  },
  {
   "cell_type": "markdown",
   "metadata": {},
   "source": [
    "Create a new column \"clear\" that is `True` if either of the following conditions is met:\n",
    "\n",
    "- The \"Secchi Depth (m)\" is at least 4m\n",
    "- The \"Secchi Depth (m)\" is at least as large as the \"Water Depth (m)\" (due to small differences due to waves/location/etc\n",
    " Secchi Depth can be (slightly) greater than Water Depth)\n",
    "\n",
    " Display the proportion of \"clear\" observations.\n",
    "\n",
    "\n",
    "\n"
   ]
  },
  {
   "cell_type": "code",
   "execution_count": 11,
   "metadata": {},
   "outputs": [
    {
     "data": {
      "text/plain": [
       "0.3888654576128216"
      ]
     },
     "execution_count": 11,
     "metadata": {},
     "output_type": "execute_result"
    }
   ],
   "source": [
    "# proprotion of clear observations\n",
    "bbnwr[\"clear\"] = (bbnwr[\"Secchi Depth (m)\"] >= 4) | (bbnwr[\"Secchi Depth (m)\"] >= bbnwr[\"Water Depth (m)\"])\n",
    "clear_proportion = bbnwr[\"clear\"].mean()\n",
    "clear_proportion"
   ]
  },
  {
   "cell_type": "markdown",
   "metadata": {},
   "source": [
    "### Q2b\n",
    "\n",
    "Test the hypothesis  that the population proportion of clear measurements is 37% against the alternative that it is not equal to 37%.\n",
    "\n",
    "Use $\\alpha = 0.05$. Clearly state if you reject or fail to reject this hypothesis."
   ]
  },
  {
   "cell_type": "code",
   "execution_count": 12,
   "metadata": {},
   "outputs": [
    {
     "data": {
      "text/plain": [
       "'fail to reject'"
      ]
     },
     "execution_count": 12,
     "metadata": {},
     "output_type": "execute_result"
    }
   ],
   "source": [
    "# test\n",
    "# Hypothesis test for population proportion\n",
    "population_proportion = 0.37\n",
    "sample_proportion = clear_proportion\n",
    "sample_size = len(bbnwr)\n",
    "\n",
    "# Compute the standard error for the proportion\n",
    "standard_error_proportion = np.sqrt((population_proportion * (1 - population_proportion)) / sample_size)\n",
    "\n",
    "# Compute the test statistic\n",
    "test_statistic_proportion = (sample_proportion - population_proportion) / standard_error_proportion\n",
    "\n",
    "# Compute the critical value for the rejection region\n",
    "alpha = 0.05\n",
    "critical_value_proportion = sps.norm.ppf(1 - alpha / 2)\n",
    "\n",
    "# Determine if we reject or fail to reject the null hypothesis\n",
    "if abs(test_statistic_proportion) > critical_value_proportion:\n",
    "    result_proportion = \"reject\"\n",
    "else:\n",
    "    result_proportion = \"fail to reject\"\n",
    "\n",
    "result_proportion"
   ]
  },
  {
   "cell_type": "markdown",
   "metadata": {},
   "source": [
    "*Double click to add your answer*\n",
    "\n",
    "### Q2c\n",
    "\n",
    "Referring the result from the previous section, compute the $p$-value for this hypothesis."
   ]
  },
  {
   "cell_type": "code",
   "execution_count": 14,
   "metadata": {},
   "outputs": [
    {
     "data": {
      "text/plain": [
       "0.05708446897063846"
      ]
     },
     "execution_count": 14,
     "metadata": {},
     "output_type": "execute_result"
    }
   ],
   "source": [
    "# you will find sps.norm.cdf helpful\n",
    "\n",
    "# Compute the p-value for the hypothesis test\n",
    "p_value = 2 * (1 - sps.norm.cdf(abs(test_statistic_proportion)))\n",
    "p_value"
   ]
  },
  {
   "cell_type": "markdown",
   "metadata": {},
   "source": [
    "Consider three different people:\n",
    "\n",
    "- Person A has a 10% tolerance for Type I errors\n",
    "- Person B has a 5% tolerance for Type I errors\n",
    "- Person C has a 1% tolerance for Type I errors\n",
    "\n",
    "\n",
    "Which of these people (if any) would reject the null hypothesis that 40% of all possible measurements would be clear. Justify your answer.\n",
    "\n",
    "Person A would reject the null hypothesis because their tolerance for Type I errors (10%) is higher than the p-value (0.057).\n",
    "\n",
    "Person B would fail to reject the null hypothesis because their tolerance for Type I errors (5%) is lower than the p-value (0.057).\n",
    "\n",
    "Person C would fail to reject the null hypothesis because their tolerance for Type I errors (1%) is much lower than the p-value (0.057).\n",
    "\n",
    "### Q2d\n",
    "\n",
    "Using values you computed in the previous sections, create a 95% confidence interval for the proportion of clear observations in the population of all observations.\n",
    "\n",
    "Note: you will need to use the estimated standard error of the sample proportion ($\\hat p$) of: $\\sqrt{\\frac{\\hat p(1-\\hat p)}{n}}$.\n",
    "\n",
    "Interpret this result in words."
   ]
  },
  {
   "cell_type": "code",
   "execution_count": 30,
   "metadata": {},
   "outputs": [
    {
     "data": {
      "text/plain": [
       "(0.36924313492794025, 0.40848778029770294)"
      ]
     },
     "execution_count": 30,
     "metadata": {},
     "output_type": "execute_result"
    }
   ],
   "source": [
    "# confidence interval\n",
    "\n",
    "# Calculate the standard error for the sample proportion\n",
    "standard_error_proportion = np.sqrt((sample_proportion * (1 - sample_proportion)) / sample_size)\n",
    "\n",
    "# Calculate the z-score for the 95% confidence interval\n",
    "z_score_95 = sps.norm.ppf(1 - alpha / 2)\n",
    "\n",
    "# Calculate the margin of error\n",
    "margin_of_error_95 = z_score_95 * standard_error_proportion\n",
    "\n",
    "# Calculate the confidence interval\n",
    "confidence_interval_95 = (sample_proportion - margin_of_error_95, sample_proportion + margin_of_error_95)\n",
    "\n",
    "confidence_interval_95\n",
    "\n",
    "\n",
    "# Interpretation\n",
    "# The 95% confidence interval for the proportion of clear observations is (0.3692, 0.4085). This interval means that we are 95% confident that the true proportion of clear observations in the population lies between 36.92% and 40.85%. Since this interval does not include 37%, it suggests that the true proportion of clear observations is different from 37%."
   ]
  },
  {
   "cell_type": "markdown",
   "metadata": {},
   "source": [
    "*Double click to add your answer*\n",
    "## Question 3\n",
    "\n",
    "### Q3a\n",
    "\n",
    "Recall that if there is no relationship between two variables (i.e., they are statistically independent in the population), then the correlation coefficient will be zero (or more generally, if there is no linear relationship).\n",
    "\n",
    "Using the standard error for a correlation coefficient. Test the hypothesis that the correlation between \"AirTemp (C)\" and \"Water Temp (?C)\" is zero against the alternative that it is non-zero. Use an $\\alpha$-level of 0.05.\n",
    "\n",
    "Note: it is helpful to create a table that only these two variables and no missing values."
   ]
  },
  {
   "cell_type": "code",
   "execution_count": 28,
   "metadata": {},
   "outputs": [
    {
     "data": {
      "text/plain": [
       "(0.6803449857846121, 32.25007467256545, 1.959963984540054, 'reject')"
      ]
     },
     "execution_count": 28,
     "metadata": {},
     "output_type": "execute_result"
    }
   ],
   "source": [
    "# test\n",
    "# Filter the data to include only non-missing values for \"AirTemp (C)\" and \"Water Temp (?C)\"\n",
    "temp_data = bbnwr[[\"AirTemp (C)\", \"Water Temp (?C)\"]].dropna()\n",
    "\n",
    "# Compute the correlation coefficient\n",
    "correlation_coefficient = temp_data[\"AirTemp (C)\"].corr(temp_data[\"Water Temp (?C)\"])\n",
    "\n",
    "# Compute the standard error for the correlation coefficient\n",
    "n = len(temp_data)\n",
    "standard_error_corr = 1 / np.sqrt(n - 3)\n",
    "\n",
    "# Compute the test statistic\n",
    "test_statistic_corr = correlation_coefficient / standard_error_corr\n",
    "\n",
    "# Compute the critical value for the rejection region\n",
    "critical_value_corr = sps.norm.ppf(1 - alpha / 2)\n",
    "\n",
    "# Determine if we reject or fail to reject the null hypothesis\n",
    "if abs(test_statistic_corr) > critical_value_corr:\n",
    "    result_corr = \"reject\"\n",
    "else:\n",
    "    result_corr = \"fail to reject\"\n",
    "\n",
    "correlation_coefficient, test_statistic_corr, critical_value_corr, result_corr\n",
    "\n"
   ]
  },
  {
   "cell_type": "markdown",
   "metadata": {},
   "source": [
    "Interpret this result. Would you reject the hypothesis that there is no linear relationship between these two variables (in the population)?\n",
    "\n",
    "*Double click to add your answer*\n",
    "\n",
    "```markdown\n",
    "Given that the test statistic (32.25) is greater than the critical value (1.96), we reject the null hypothesis that there is no linear relationship between \"AirTemp (C)\" and \"Water Temp (?C)\". This suggests that there is a statistically significant linear relationship between these two variables in the population.\n",
    "```\n",
    "\n",
    "### Q3b\n",
    "\n",
    "Create two confidence intervals for the population correlation coefficient:\n",
    "\n",
    "- a 95% CI\n",
    "- a 99.7% CI\n",
    "\n"
   ]
  },
  {
   "cell_type": "code",
   "execution_count": 27,
   "metadata": {},
   "outputs": [
    {
     "data": {
      "text/plain": [
       "((0.6575066749718924, 0.7019342435071243),\n",
       " (0.6452685110547737, 0.7125589970403235))"
      ]
     },
     "execution_count": 27,
     "metadata": {},
     "output_type": "execute_result"
    }
   ],
   "source": [
    "# confidence intervals\n",
    "\n",
    "fisher_z = np.arctanh(correlation_coefficient)\n",
    "\n",
    "# Calculate the standard error for the Fisher transformation\n",
    "se_fisher = 1 / np.sqrt(n - 3)\n",
    "\n",
    "# Calculate the z-scores for the confidence intervals\n",
    "z_score_95 = sps.norm.ppf(1 - 0.05 / 2)\n",
    "z_score_997 = sps.norm.ppf(1 - 0.003 / 2)\n",
    "\n",
    "# Calculate the confidence intervals in the Fisher transformed space\n",
    "ci_fisher_95 = (fisher_z - z_score_95 * se_fisher, fisher_z + z_score_95 * se_fisher)\n",
    "ci_fisher_997 = (fisher_z - z_score_997 * se_fisher, fisher_z + z_score_997 * se_fisher)\n",
    "\n",
    "# Transform the confidence intervals back to the correlation coefficient space\n",
    "ci_95 = (np.tanh(ci_fisher_95[0]), np.tanh(ci_fisher_95[1]))\n",
    "ci_997 = (np.tanh(ci_fisher_997[0]), np.tanh(ci_fisher_997[1]))\n",
    "\n",
    "ci_95, ci_997\n",
    "\n"
   ]
  },
  {
   "cell_type": "markdown",
   "metadata": {},
   "source": [
    "Which interval is wider? Explain why we know this would be true without ever calculating the intervals.\n",
    "\n",
    "*Double click to add your answer*\n",
    "\n",
    "The 99.7% confidence interval is wider. This is because a higher confidence level requires a larger margin of error to ensure that the true parameter value is captured within the interval. Therefore, the interval must be wider to account for the increased confidence level.\n",
    "\n",
    "## Question 4\n",
    "\n",
    "Let's investigate if the locations of the measurements are related to the time of year of the measurement. In other words, do the people taking the measurements favor different sites at different times of the year.\n",
    "```"
   ]
  },
  {
   "cell_type": "code",
   "execution_count": 19,
   "metadata": {},
   "outputs": [],
   "source": [
    "bbnwr[\"Date\"] = pd.to_datetime(bbnwr[\"Read_Date\"])"
   ]
  },
  {
   "cell_type": "markdown",
   "metadata": {},
   "source": [
    "### Q4a\n",
    "\n",
    "Create a table that only includes the columns \"Site_Id\" and \"Date\". Then, create a new column \"Month\" that is the month of the date of the measurement (using the `.dt.month` attribute of the `\"Date\"` column created above). Plot the distribution of this variable."
   ]
  },
  {
   "cell_type": "code",
   "execution_count": 20,
   "metadata": {},
   "outputs": [
    {
     "name": "stderr",
     "output_type": "stream",
     "text": [
      "/var/folders/y6/srfzmfb50kv5y_ydzjycdsbm0000gn/T/ipykernel_41240/1867406296.py:6: SettingWithCopyWarning: \n",
      "A value is trying to be set on a copy of a slice from a DataFrame.\n",
      "Try using .loc[row_indexer,col_indexer] = value instead\n",
      "\n",
      "See the caveats in the documentation: https://pandas.pydata.org/pandas-docs/stable/user_guide/indexing.html#returning-a-view-versus-a-copy\n",
      "  site_date_table[\"Month\"] = site_date_table[\"Date\"].dt.month\n"
     ]
    },
    {
     "data": {
      "text/plain": [
       "<Axes: xlabel='Month', ylabel='Count'>"
      ]
     },
     "execution_count": 20,
     "metadata": {},
     "output_type": "execute_result"
    },
    {
     "data": {
      "image/png": "[encoded data removed]",
      "text/plain": [
       "<Figure size 640x480 with 1 Axes>"
      ]
     },
     "metadata": {},
     "output_type": "display_data"
    }
   ],
   "source": [
    "# month plot\n",
    "# Create a table with only the columns \"Site_Id\" and \"Date\"\n",
    "site_date_table = bbnwr[[\"Site_Id\", \"Date\"]]\n",
    "\n",
    "# Create a new column \"Month\" that is the month of the date of the measurement\n",
    "site_date_table[\"Month\"] = site_date_table[\"Date\"].dt.month\n",
    "\n",
    "# Plot the distribution of the \"Month\" variable\n",
    "sb.histplot(data=site_date_table, x=\"Month\", discrete=True)"
   ]
  },
  {
   "cell_type": "markdown",
   "metadata": {},
   "source": [
    "### Q4b\n",
    "\n",
    "We have noted that one way to think about independence is by thing about conditional distributions. If two variables are independent, then the conditional distribution of one variable should be the same regardless of conditioning on the value of the other variable.\n",
    "\n",
    "Create a plot that shows the conditional distribution of Site_Id for each value of month. Note: the `histplot` method has two arguments that are helpful -- `multipel = 'fill'` anad `discrete = True`."
   ]
  },
  {
   "cell_type": "code",
   "execution_count": 21,
   "metadata": {},
   "outputs": [
    {
     "data": {
      "text/plain": [
       "<Axes: xlabel='Month', ylabel='Count'>"
      ]
     },
     "execution_count": 21,
     "metadata": {},
     "output_type": "execute_result"
    },
    {
     "data": {
      "image/png": "[encoded data removed]",
      "text/plain": [
       "<Figure size 640x480 with 1 Axes>"
      ]
     },
     "metadata": {},
     "output_type": "display_data"
    }
   ],
   "source": [
    "# plots\n",
    "sb.histplot(data=site_date_table, x=\"Month\", hue=\"Site_Id\", multiple=\"fill\", discrete=True)"
   ]
  },
  {
   "cell_type": "markdown",
   "metadata": {},
   "source": [
    "What do you notice about the conditional distributions? Does this suggest that the variables are independent?\n",
    "\n",
    "*Double click to add interpretation*\n",
    "\n",
    "The proportion of each \"Site_Id\" does not significantly change from one month to another. This suggests that the variables \"Site_Id\" and \"Month\" are independent.\n",
    "\n",
    "### Q4c\n",
    "\n",
    "Create the *contingency table* for the variables \"Site_Id\" and \"Month\". Print out this table. What do you notice about the row or column (this will depend on how you order the data) that represents the \"Bay\" site? This row/column will look different than the others. Is this evidence that the the variables are dependent? Why or why not?"
   ]
  },
  {
   "cell_type": "code",
   "execution_count": null,
   "metadata": {},
   "outputs": [
    {
     "name": "stdout",
     "output_type": "stream",
     "text": [
      "Month    1.0   2.0   3.0   4.0   5.0   6.0   7.0   8.0   9.0   10.0  11.0  \\\n",
      "Site_Id                                                                     \n",
      "A          31    38    36    35    37    34    35    37    38    40    37   \n",
      "B          31    38    37    37    38    35    35    36    39    40    37   \n",
      "Bay        58    63    67    71    73    71    65    73    65    70    63   \n",
      "C          17    24    22    21    25    22    23    22    22    22    23   \n",
      "D          31    39    35    36    38    34    35    37    40    40    38   \n",
      "\n",
      "Month    12.0  \n",
      "Site_Id        \n",
      "A          35  \n",
      "B          34  \n",
      "Bay        54  \n",
      "C          21  \n",
      "D          36  \n"
     ]
    }
   ],
   "source": [
    "# print out table\n",
    "# Create the contingency table\n",
    "contingency_table = pd.crosstab(site_date_table[\"Site_Id\"], site_date_table[\"Month\"])\n",
    "\n",
    "# Print the contingency table\n",
    "print(contingency_table)\n",
    "\n",
    "# the value in Bay is significantly higher in Bay than otehr sites. it is not the evidentce of dependdence. We should use chi-square test to test the independence of the two variables."
   ]
  },
  {
   "cell_type": "markdown",
   "metadata": {},
   "source": [
    "### Q4d\n",
    "\n",
    "Using the `sps.chi2_contingency` function, perform a $\\chi^2$ test for independence between these two variables. Use an $\\alpha$-level of 0.05. Report if you would reject the null hypothesis that the variables are independent. Write, in words, your conclusion to the question of whether different sites were favored in particular months."
   ]
  },
  {
   "cell_type": "code",
   "execution_count": 26,
   "metadata": {},
   "outputs": [
    {
     "data": {
      "text/plain": [
       "(4.717058895508418, 0.9999999999999852, 44, 'fail to reject')"
      ]
     },
     "execution_count": 26,
     "metadata": {},
     "output_type": "execute_result"
    }
   ],
   "source": [
    "# compute p-value\n",
    "# Perform the chi-square test for independence\n",
    "chi2_stat, p_value, dof, expected = sps.chi2_contingency(contingency_table)\n",
    "\n",
    "# Determine if we reject or fail to reject the null hypothesis\n",
    "if p_value < 0.05:\n",
    "    result_chi2 = \"reject\"\n",
    "else:\n",
    "    result_chi2 = \"fail to reject\"\n",
    "\n",
    "chi2_stat, p_value, dof, result_chi2"
   ]
  },
  {
   "cell_type": "markdown",
   "metadata": {},
   "source": [
    "** The very high p-value indicates that there is no statistically significant association between \"Site_Id\" and \"Month.\""
   ]
  }
 ],
 "metadata": {
  "kernelspec": {
   "display_name": "base",
   "language": "python",
   "name": "python3"
  },
  "language_info": {
   "codemirror_mode": {
    "name": "ipython",
    "version": 3
   },
   "file_extension": ".py",
   "mimetype": "text/x-python",
   "name": "python",
   "nbconvert_exporter": "python",
   "pygments_lexer": "ipython3",
   "version": "3.11.8"
  }
 },
 "nbformat": 4,
 "nbformat_minor": 4
}
